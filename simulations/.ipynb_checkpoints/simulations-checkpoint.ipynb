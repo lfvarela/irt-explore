{
 "cells": [
  {
   "cell_type": "code",
   "execution_count": 5,
   "metadata": {},
   "outputs": [],
   "source": [
    "import baselines as b\n",
    "import simulations as s\n",
    "import numpy as np"
   ]
  },
  {
   "cell_type": "code",
   "execution_count": 6,
   "metadata": {},
   "outputs": [],
   "source": [
    "N = 10  # Num students\n",
    "Q = 5  # Num questions\n",
    "C = 2  # Num concepts\n",
    "guess_prob = 0.25\n",
    "student_matrix, questions_matrix = s.generate_matrices(N, Q, C)"
   ]
  },
  {
   "cell_type": "code",
   "execution_count": 7,
   "metadata": {},
   "outputs": [
    {
     "name": "stdout",
     "output_type": "stream",
     "text": [
      "[[0.         0.88333604]\n",
      " [0.22902099 0.        ]\n",
      " [0.23330095 0.        ]\n",
      " [0.71873629 0.        ]\n",
      " [0.         0.31157241]]\n",
      "[[0.33566364 0.5362882 ]\n",
      " [0.45098672 0.65773358]\n",
      " [0.21539507 0.42336121]\n",
      " [0.63876883 0.82207131]\n",
      " [0.20886872 0.34686264]\n",
      " [0.44885014 0.65285491]\n",
      " [0.15191667 0.73841457]\n",
      " [0.6425488  0.04354555]\n",
      " [0.50094078 0.59738846]\n",
      " [0.44042419 0.77125043]]\n"
     ]
    }
   ],
   "source": [
    "print(student_matrix)\n",
    "print(questions_matrix)\n"
   ]
  },
  {
   "cell_type": "code",
   "execution_count": 8,
   "metadata": {},
   "outputs": [
    {
     "name": "stdout",
     "output_type": "stream",
     "text": [
      "[[0. 1. 1. 1. 1.]\n",
      " [1. 1. 1. 1. 1.]\n",
      " [0. 1. 1. 0. 1.]\n",
      " [0. 0. 1. 1. 0.]\n",
      " [0. 1. 1. 1. 1.]\n",
      " [1. 1. 1. 1. 1.]\n",
      " [1. 1. 1. 0. 0.]\n",
      " [1. 1. 0. 1. 1.]\n",
      " [1. 1. 1. 1. 0.]\n",
      " [0. 1. 1. 0. 1.]]\n"
     ]
    }
   ],
   "source": [
    "fake_data = np.zeros((student_matrix.shape[0], questions_matrix.shape[0]))\n",
    "for i, student in enumerate(student_matrix):\n",
    "    for j, question in enumerate(questions_matrix):\n",
    "        concept = np.nonzero(question)[0]\n",
    "        prob = b.sigmoid_irf(student[concept], guess_prob, question[concept])\n",
    "        if np.random.uniform() <= prob:\n",
    "            fake_data[i, j] = 1\n",
    "print(fake_data)"
   ]
  },
  {
   "cell_type": "code",
   "execution_count": null,
   "metadata": {},
   "outputs": [],
   "source": []
  },
  {
   "cell_type": "code",
   "execution_count": null,
   "metadata": {},
   "outputs": [],
   "source": []
  }
 ],
 "metadata": {
  "kernelspec": {
   "display_name": "Python 3",
   "language": "python",
   "name": "python3"
  },
  "language_info": {
   "codemirror_mode": {
    "name": "ipython",
    "version": 3
   },
   "file_extension": ".py",
   "mimetype": "text/x-python",
   "name": "python",
   "nbconvert_exporter": "python",
   "pygments_lexer": "ipython3",
   "version": "3.6.5"
  }
 },
 "nbformat": 4,
 "nbformat_minor": 1
}
