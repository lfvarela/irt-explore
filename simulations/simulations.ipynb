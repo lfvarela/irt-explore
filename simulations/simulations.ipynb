{
 "cells": [
  {
   "cell_type": "code",
   "execution_count": 34,
   "metadata": {},
   "outputs": [
    {
     "name": "stdout",
     "output_type": "stream",
     "text": [
      "The autoreload extension is already loaded. To reload it, use:\n",
      "  %reload_ext autoreload\n"
     ]
    }
   ],
   "source": [
    "import baselines as b\n",
    "import simulations as s\n",
    "import numpy as np\n",
    "\n",
    "%load_ext autoreload\n",
    "%autoreload 2"
   ]
  },
  {
   "cell_type": "code",
   "execution_count": 35,
   "metadata": {},
   "outputs": [],
   "source": [
    "N = 10  # Num students\n",
    "Q = 5  # Num questions\n",
    "C = 5  # Num concepts\n",
    "guess_prob = 0.25  # Guessing threshold for student\n",
    "l = 10 # lambda for floored exponential. Note that we are fixing it at a constant, need to figure out what value to use. "
   ]
  },
  {
   "cell_type": "markdown",
   "metadata": {},
   "source": [
    "# Pipeline"
   ]
  },
  {
   "cell_type": "markdown",
   "metadata": {},
   "source": [
    "## Uncorrelated Student Abilities"
   ]
  },
  {
   "cell_type": "markdown",
   "metadata": {},
   "source": [
    "Uncorrelated: Student abilities are sampled from independent normal distributions. "
   ]
  },
  {
   "cell_type": "code",
   "execution_count": 36,
   "metadata": {},
   "outputs": [],
   "source": [
    "student_matrix, questions_matrix = s.generate_matrices(N, Q, C)"
   ]
  },
  {
   "cell_type": "code",
   "execution_count": 37,
   "metadata": {},
   "outputs": [
    {
     "data": {
      "text/plain": [
       "array([[0.9228216 , 0.71908405, 0.88430657, 0.75352895, 0.55236638],\n",
       "       [0.23031986, 0.325379  , 0.46023039, 0.91849283, 0.36458489],\n",
       "       [0.84056474, 0.04895415, 0.74951552, 0.31066802, 0.36448525],\n",
       "       [0.37766776, 0.50744627, 0.58110187, 0.78549121, 0.6023594 ],\n",
       "       [0.34823317, 0.50200407, 0.78724569, 0.41897184, 0.60377801],\n",
       "       [0.40037831, 0.08726337, 0.6887737 , 0.53408108, 0.4830659 ],\n",
       "       [0.44698911, 0.84557169, 0.79176456, 0.20772081, 0.44424366],\n",
       "       [0.56457249, 0.63684089, 0.25232947, 0.49175967, 0.31943554],\n",
       "       [0.81175205, 0.91449856, 0.80364538, 0.11034651, 0.2744497 ],\n",
       "       [0.4365156 , 0.07457959, 0.84187191, 0.54894643, 0.43910644]])"
      ]
     },
     "execution_count": 37,
     "metadata": {},
     "output_type": "execute_result"
    }
   ],
   "source": [
    "student_matrix"
   ]
  },
  {
   "cell_type": "code",
   "execution_count": 38,
   "metadata": {},
   "outputs": [
    {
     "data": {
      "text/plain": [
       "array([[0.4716003 , 0.        , 0.        , 0.        , 0.        ],\n",
       "       [0.        , 0.        , 0.        , 0.        , 0.42795482],\n",
       "       [0.62948442, 0.        , 0.        , 0.        , 0.        ],\n",
       "       [0.        , 0.35044917, 0.        , 0.        , 0.        ],\n",
       "       [0.        , 0.        , 0.        , 0.90404273, 0.        ]])"
      ]
     },
     "execution_count": 38,
     "metadata": {},
     "output_type": "execute_result"
    }
   ],
   "source": [
    "questions_matrix"
   ]
  },
  {
   "cell_type": "markdown",
   "metadata": {},
   "source": [
    "#### Generate with Sigmoid IRF"
   ]
  },
  {
   "cell_type": "code",
   "execution_count": 39,
   "metadata": {},
   "outputs": [
    {
     "data": {
      "text/plain": [
       "array([[1., 1., 1., 1., 0.],\n",
       "       [0., 1., 0., 1., 0.],\n",
       "       [1., 0., 1., 1., 1.],\n",
       "       [0., 1., 1., 1., 0.],\n",
       "       [0., 0., 1., 0., 0.],\n",
       "       [1., 1., 0., 1., 1.],\n",
       "       [1., 0., 1., 0., 1.],\n",
       "       [1., 1., 1., 0., 0.],\n",
       "       [1., 1., 0., 1., 0.],\n",
       "       [1., 1., 0., 0., 0.]])"
      ]
     },
     "execution_count": 39,
     "metadata": {},
     "output_type": "execute_result"
    }
   ],
   "source": [
    "s.generate_responses(student_matrix, questions_matrix, guess_prob, b.sigmoid_irf)"
   ]
  },
  {
   "cell_type": "markdown",
   "metadata": {},
   "source": [
    "#### Generate with Floored Exponential"
   ]
  },
  {
   "cell_type": "code",
   "execution_count": 40,
   "metadata": {},
   "outputs": [
    {
     "data": {
      "text/plain": [
       "array([[1., 1., 1., 1., 0.],\n",
       "       [0., 0., 0., 1., 0.],\n",
       "       [1., 1., 1., 0., 0.],\n",
       "       [1., 1., 0., 0., 0.],\n",
       "       [1., 1., 0., 1., 0.],\n",
       "       [0., 1., 0., 0., 0.],\n",
       "       [0., 0., 1., 1., 0.],\n",
       "       [1., 1., 0., 1., 0.],\n",
       "       [1., 0., 1., 1., 0.],\n",
       "       [1., 0., 1., 0., 0.]])"
      ]
     },
     "execution_count": 40,
     "metadata": {},
     "output_type": "execute_result"
    }
   ],
   "source": [
    "s.generate_responses(student_matrix, questions_matrix, guess_prob, b.floored_exp_irf, l)"
   ]
  },
  {
   "cell_type": "markdown",
   "metadata": {},
   "source": [
    "## Correlated"
   ]
  },
  {
   "cell_type": "markdown",
   "metadata": {},
   "source": [
    "Student abilities are sampled from a normal distribution with mean theta, where theta is sampled from a normal distribution."
   ]
  },
  {
   "cell_type": "code",
   "execution_count": 41,
   "metadata": {},
   "outputs": [],
   "source": [
    "student_matrix, questions_matrix = s.generate_matrices(N, Q, C, correl=True)"
   ]
  },
  {
   "cell_type": "code",
   "execution_count": 42,
   "metadata": {},
   "outputs": [
    {
     "data": {
      "text/plain": [
       "array([[0.26511797, 0.20658636, 0.64600288, 0.54256674, 0.91585937],\n",
       "       [0.49294039, 0.55598455, 0.48820622, 0.30893293, 0.98017028],\n",
       "       [0.54427657, 0.97849749, 0.33520979, 0.65224855, 0.59654044],\n",
       "       [0.64531017, 0.7680205 , 0.39079632, 0.2241699 , 0.9245442 ],\n",
       "       [0.57749998, 0.10696597, 0.79918848, 0.90927121, 0.08324387],\n",
       "       [0.32420095, 0.41190952, 0.79958283, 0.58423377, 0.58068892],\n",
       "       [0.54185414, 0.15676565, 0.29101328, 0.26416403, 0.66156933],\n",
       "       [0.18971624, 0.30252612, 0.53112968, 0.64174687, 0.56426249],\n",
       "       [0.45822753, 0.1551195 , 0.35629883, 0.78441563, 0.66054253],\n",
       "       [0.59115062, 0.6263604 , 0.39635237, 0.2686601 , 0.55158569]])"
      ]
     },
     "execution_count": 42,
     "metadata": {},
     "output_type": "execute_result"
    }
   ],
   "source": [
    "student_matrix"
   ]
  },
  {
   "cell_type": "code",
   "execution_count": 43,
   "metadata": {},
   "outputs": [
    {
     "data": {
      "text/plain": [
       "array([[0.34338594, 0.        , 0.        , 0.        , 0.        ],\n",
       "       [0.        , 0.        , 0.        , 0.33215206, 0.        ],\n",
       "       [0.        , 0.        , 0.        , 0.        , 0.48350246],\n",
       "       [0.        , 0.        , 0.        , 0.        , 0.89690335],\n",
       "       [0.        , 0.        , 0.        , 0.40825277, 0.        ]])"
      ]
     },
     "execution_count": 43,
     "metadata": {},
     "output_type": "execute_result"
    }
   ],
   "source": [
    "questions_matrix"
   ]
  },
  {
   "cell_type": "markdown",
   "metadata": {},
   "source": [
    "#### Generate with Sigmoid IRF"
   ]
  },
  {
   "cell_type": "code",
   "execution_count": 44,
   "metadata": {},
   "outputs": [
    {
     "data": {
      "text/plain": [
       "array([[1., 0., 1., 0., 0.],\n",
       "       [1., 1., 1., 1., 1.],\n",
       "       [1., 1., 1., 1., 1.],\n",
       "       [1., 0., 0., 1., 1.],\n",
       "       [0., 1., 1., 1., 0.],\n",
       "       [1., 0., 1., 0., 0.],\n",
       "       [1., 1., 1., 0., 1.],\n",
       "       [1., 1., 0., 1., 1.],\n",
       "       [0., 1., 1., 1., 1.],\n",
       "       [0., 0., 0., 1., 1.]])"
      ]
     },
     "execution_count": 44,
     "metadata": {},
     "output_type": "execute_result"
    }
   ],
   "source": [
    "s.generate_responses(student_matrix, questions_matrix, guess_prob, b.sigmoid_irf)"
   ]
  },
  {
   "cell_type": "markdown",
   "metadata": {},
   "source": [
    "#### Generate with Floored Exponential"
   ]
  },
  {
   "cell_type": "code",
   "execution_count": 45,
   "metadata": {},
   "outputs": [
    {
     "data": {
      "text/plain": [
       "array([[0., 1., 1., 0., 1.],\n",
       "       [1., 0., 1., 0., 1.],\n",
       "       [1., 1., 1., 1., 1.],\n",
       "       [1., 0., 1., 1., 0.],\n",
       "       [1., 1., 0., 0., 1.],\n",
       "       [0., 1., 1., 1., 1.],\n",
       "       [0., 1., 1., 0., 0.],\n",
       "       [0., 1., 0., 0., 1.],\n",
       "       [0., 1., 1., 0., 1.],\n",
       "       [1., 0., 1., 0., 0.]])"
      ]
     },
     "execution_count": 45,
     "metadata": {},
     "output_type": "execute_result"
    }
   ],
   "source": [
    "s.generate_responses(student_matrix, questions_matrix, guess_prob, b.floored_exp_irf, l)"
   ]
  },
  {
   "cell_type": "code",
   "execution_count": null,
   "metadata": {},
   "outputs": [],
   "source": []
  }
 ],
 "metadata": {
  "kernelspec": {
   "display_name": "Python 3",
   "language": "python",
   "name": "python3"
  },
  "language_info": {
   "codemirror_mode": {
    "name": "ipython",
    "version": 3
   },
   "file_extension": ".py",
   "mimetype": "text/x-python",
   "name": "python",
   "nbconvert_exporter": "python",
   "pygments_lexer": "ipython3",
   "version": "3.6.5"
  }
 },
 "nbformat": 4,
 "nbformat_minor": 1
}
