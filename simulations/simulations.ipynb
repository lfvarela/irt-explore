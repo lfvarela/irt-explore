{
 "cells": [
  {
   "cell_type": "code",
   "execution_count": 21,
   "metadata": {},
   "outputs": [],
   "source": [
    "import baselines as b\n",
    "import simulations as s\n",
    "import numpy as np"
   ]
  },
  {
   "cell_type": "code",
   "execution_count": 22,
   "metadata": {},
   "outputs": [],
   "source": [
    "N = 10  # Num students\n",
    "Q = 5  # Num questions\n",
    "C = 2  # Num concepts\n",
    "guess_prob = 0.25\n",
    "student_matrix, questions_matrix = s.generate_matrices(N, Q, C)"
   ]
  },
  {
   "cell_type": "code",
   "execution_count": 23,
   "metadata": {},
   "outputs": [
    {
     "data": {
      "text/plain": [
       "array([[0.44958844, 0.11814064],\n",
       "       [0.86746022, 0.62648255],\n",
       "       [0.15642549, 0.75208579],\n",
       "       [0.27324873, 0.91933304],\n",
       "       [0.61605849, 0.22230653],\n",
       "       [0.63032451, 0.31845674],\n",
       "       [0.93226324, 0.76768342],\n",
       "       [0.19920497, 0.58473246],\n",
       "       [0.67647232, 0.40025556],\n",
       "       [0.76161301, 0.42288631]])"
      ]
     },
     "execution_count": 23,
     "metadata": {},
     "output_type": "execute_result"
    }
   ],
   "source": [
    "student_matrix"
   ]
  },
  {
   "cell_type": "code",
   "execution_count": 24,
   "metadata": {},
   "outputs": [
    {
     "data": {
      "text/plain": [
       "array([[0.15931168, 0.        ],\n",
       "       [0.        , 0.77286573],\n",
       "       [0.        , 0.79744536],\n",
       "       [0.49645632, 0.        ],\n",
       "       [0.82066732, 0.        ]])"
      ]
     },
     "execution_count": 24,
     "metadata": {},
     "output_type": "execute_result"
    }
   ],
   "source": [
    "questions_matrix"
   ]
  },
  {
   "cell_type": "code",
   "execution_count": 27,
   "metadata": {},
   "outputs": [
    {
     "data": {
      "text/plain": [
       "array([[1., 0., 0., 1., 1.],\n",
       "       [1., 1., 1., 1., 0.],\n",
       "       [1., 1., 0., 1., 0.],\n",
       "       [1., 1., 1., 0., 1.],\n",
       "       [1., 0., 1., 1., 1.],\n",
       "       [1., 1., 1., 1., 0.],\n",
       "       [1., 1., 1., 1., 0.],\n",
       "       [1., 1., 1., 1., 1.],\n",
       "       [1., 0., 0., 1., 0.],\n",
       "       [1., 0., 1., 1., 1.]])"
      ]
     },
     "execution_count": 27,
     "metadata": {},
     "output_type": "execute_result"
    }
   ],
   "source": [
    "fake_data = np.zeros((student_matrix.shape[0], questions_matrix.shape[0]))\n",
    "for i, student in enumerate(student_matrix):\n",
    "    for j, question in enumerate(questions_matrix):\n",
    "        concept = np.nonzero(question)[0]\n",
    "        prob = b.sigmoid_irf(student[concept], guess_prob, question[concept])\n",
    "        if np.random.uniform() <= prob:\n",
    "            fake_data[i, j] = 1\n",
    "fake_data"
   ]
  },
  {
   "cell_type": "code",
   "execution_count": null,
   "metadata": {},
   "outputs": [],
   "source": []
  },
  {
   "cell_type": "code",
   "execution_count": null,
   "metadata": {},
   "outputs": [],
   "source": []
  }
 ],
 "metadata": {
  "kernelspec": {
   "display_name": "Python 3",
   "language": "python",
   "name": "python3"
  },
  "language_info": {
   "codemirror_mode": {
    "name": "ipython",
    "version": 3
   },
   "file_extension": ".py",
   "mimetype": "text/x-python",
   "name": "python",
   "nbconvert_exporter": "python",
   "pygments_lexer": "ipython3",
   "version": "3.6.5"
  }
 },
 "nbformat": 4,
 "nbformat_minor": 1
}
