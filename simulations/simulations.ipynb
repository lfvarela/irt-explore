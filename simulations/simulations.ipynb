{
 "cells": [
  {
   "cell_type": "code",
   "execution_count": 38,
   "metadata": {},
   "outputs": [
    {
     "name": "stdout",
     "output_type": "stream",
     "text": [
      "The autoreload extension is already loaded. To reload it, use:\n",
      "  %reload_ext autoreload\n"
     ]
    }
   ],
   "source": [
    "import baselines as b\n",
    "import simulations as s\n",
    "import numpy as np\n",
    "\n",
    "%load_ext autoreload\n",
    "%autoreload 2"
   ]
  },
  {
   "cell_type": "code",
   "execution_count": 39,
   "metadata": {},
   "outputs": [],
   "source": [
    "N = 1000  # Num students\n",
    "Q = 100  # Num questions\n",
    "guess_prob = 0.25  # Guessing threshold for student\n",
    "l = 10 # lambda for floored exponential. Note that we are fixing it at a constant, need to figure out what value to use. "
   ]
  },
  {
   "cell_type": "code",
   "execution_count": 40,
   "metadata": {},
   "outputs": [],
   "source": [
    "verbose = False  # Show datasets generated if True\n",
    "datasets_dir = \"../datasets/\""
   ]
  },
  {
   "cell_type": "markdown",
   "metadata": {},
   "source": [
    "# Pipeline"
   ]
  },
  {
   "cell_type": "markdown",
   "metadata": {},
   "source": [
    "## Uncorrelated Student Abilities"
   ]
  },
  {
   "cell_type": "markdown",
   "metadata": {},
   "source": [
    "Uncorrelated: Student abilities are sampled from independent normal distributions. "
   ]
  },
  {
   "cell_type": "code",
   "execution_count": 41,
   "metadata": {},
   "outputs": [],
   "source": [
    "C_uncorrelated = 1  # Num concepts\n",
    "student_matrix, questions_matrix = s.generate_matrices(N, Q, C_uncorrelated)\n",
    "np.save(datasets_dir + \"students_uncorrel\", student_matrix)\n",
    "np.save(datasets_dir + \"questions_uncorrel\", questions_matrix)"
   ]
  },
  {
   "cell_type": "code",
   "execution_count": 42,
   "metadata": {},
   "outputs": [],
   "source": [
    "if verbose: print(student_matrix)"
   ]
  },
  {
   "cell_type": "code",
   "execution_count": 43,
   "metadata": {},
   "outputs": [],
   "source": [
    "if verbose: print(questions_matrix)"
   ]
  },
  {
   "cell_type": "markdown",
   "metadata": {},
   "source": [
    "#### Generate with Sigmoid IRF"
   ]
  },
  {
   "cell_type": "code",
   "execution_count": 44,
   "metadata": {},
   "outputs": [],
   "source": [
    "sigmoid_irf_uncorrel = s.generate_responses(student_matrix, questions_matrix, guess_prob, b.sigmoid_irf)\n",
    "np.save(datasets_dir + \"sigmoid_irf_uncorrel\", sigmoid_irf_uncorrel)"
   ]
  },
  {
   "cell_type": "markdown",
   "metadata": {},
   "source": [
    "#### Generate with Floored Exponential"
   ]
  },
  {
   "cell_type": "code",
   "execution_count": 45,
   "metadata": {},
   "outputs": [],
   "source": [
    "floored_exp_uncorrel = s.generate_responses(student_matrix, questions_matrix, guess_prob, b.floored_exp_irf, l)\n",
    "np.save(datasets_dir + \"floored_exp_uncorrel\", floored_exp_uncorrel)"
   ]
  },
  {
   "cell_type": "markdown",
   "metadata": {},
   "source": [
    "## Correlated"
   ]
  },
  {
   "cell_type": "markdown",
   "metadata": {},
   "source": [
    "Student abilities are sampled from a normal distribution with mean theta, where theta is sampled from a normal distribution."
   ]
  },
  {
   "cell_type": "code",
   "execution_count": 46,
   "metadata": {},
   "outputs": [],
   "source": [
    "C_correlated = 5  # Num concepts\n",
    "student_matrix, questions_matrix = s.generate_matrices(N, Q, C_correlated, correl=True)\n",
    "np.save(datasets_dir + \"students_correl\", student_matrix)\n",
    "np.save(datasets_dir + \"questions_correl\", questions_matrix)"
   ]
  },
  {
   "cell_type": "code",
   "execution_count": 47,
   "metadata": {},
   "outputs": [],
   "source": [
    "if verbose: print(student_matrix)"
   ]
  },
  {
   "cell_type": "code",
   "execution_count": 48,
   "metadata": {},
   "outputs": [],
   "source": [
    "if verbose: print(questions_matrix)"
   ]
  },
  {
   "cell_type": "markdown",
   "metadata": {},
   "source": [
    "#### Generate with Sigmoid IRF"
   ]
  },
  {
   "cell_type": "code",
   "execution_count": 49,
   "metadata": {},
   "outputs": [],
   "source": [
    "sigmoid_irf_correl = s.generate_responses(student_matrix, questions_matrix, guess_prob, b.sigmoid_irf)\n",
    "np.save(datasets_dir + \"sigmoid_irf_correl\", sigmoid_irf_correl)"
   ]
  },
  {
   "cell_type": "markdown",
   "metadata": {},
   "source": [
    "#### Generate with Floored Exponential"
   ]
  },
  {
   "cell_type": "code",
   "execution_count": 50,
   "metadata": {},
   "outputs": [],
   "source": [
    "floored_exp_correl = s.generate_responses(student_matrix, questions_matrix, guess_prob, b.floored_exp_irf, l)\n",
    "np.save(datasets_dir + \"floored_exp_correl\", floored_exp_correl)"
   ]
  },
  {
   "cell_type": "code",
   "execution_count": null,
   "metadata": {},
   "outputs": [],
   "source": []
  }
 ],
 "metadata": {
  "kernelspec": {
   "display_name": "Python 3",
   "language": "python",
   "name": "python3"
  },
  "language_info": {
   "codemirror_mode": {
    "name": "ipython",
    "version": 3
   },
   "file_extension": ".py",
   "mimetype": "text/x-python",
   "name": "python",
   "nbconvert_exporter": "python",
   "pygments_lexer": "ipython3",
   "version": "3.6.5"
  }
 },
 "nbformat": 4,
 "nbformat_minor": 1
}
