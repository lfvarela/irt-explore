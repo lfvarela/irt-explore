{
 "cells": [
  {
   "cell_type": "code",
   "execution_count": 5,
   "metadata": {},
   "outputs": [],
   "source": [
    "import baselines as b\n",
    "import simulations as s\n",
    "import numpy as np"
   ]
  },
  {
   "cell_type": "markdown",
   "metadata": {},
   "source": [
    "# Pipeline"
   ]
  },
  {
   "cell_type": "markdown",
   "metadata": {},
   "source": [
    "We will run the full pipepile with \"uncorrelated\" and \"correlated\" student generated data. Uncorrelated data means that student skills are independent from each other, and \"correlated\" means that they are generated using a latent variable. "
   ]
  },
  {
   "cell_type": "markdown",
   "metadata": {},
   "source": [
    "## Uncorrelated"
   ]
  },
  {
   "cell_type": "code",
   "execution_count": 6,
   "metadata": {},
   "outputs": [],
   "source": [
    "N = 10  # Num students\n",
    "Q = 5  # Num questions\n",
    "C = 2  # Num concepts\n",
    "guess_prob = 0.25\n",
    "student_matrix, questions_matrix = s.generate_matrices(N, Q, C)"
   ]
  },
  {
   "cell_type": "code",
   "execution_count": 7,
   "metadata": {},
   "outputs": [
    {
     "data": {
      "text/plain": [
       "array([[0.58397649, 0.46787353],\n",
       "       [0.26728575, 0.19892067],\n",
       "       [0.56573923, 0.6752744 ],\n",
       "       [0.54109582, 0.65455229],\n",
       "       [0.64779568, 0.64211948],\n",
       "       [0.17641549, 0.697126  ],\n",
       "       [0.30700409, 0.52809754],\n",
       "       [0.70224199, 0.58435885],\n",
       "       [0.65999653, 0.40235561],\n",
       "       [0.11326836, 0.44201139]])"
      ]
     },
     "execution_count": 7,
     "metadata": {},
     "output_type": "execute_result"
    }
   ],
   "source": [
    "student_matrix"
   ]
  },
  {
   "cell_type": "code",
   "execution_count": 8,
   "metadata": {},
   "outputs": [
    {
     "data": {
      "text/plain": [
       "array([[0.53962436, 0.        ],\n",
       "       [0.        , 0.53014124],\n",
       "       [0.40966316, 0.        ],\n",
       "       [0.        , 0.17398181],\n",
       "       [0.        , 0.79699264]])"
      ]
     },
     "execution_count": 8,
     "metadata": {},
     "output_type": "execute_result"
    }
   ],
   "source": [
    "questions_matrix"
   ]
  },
  {
   "cell_type": "code",
   "execution_count": 9,
   "metadata": {},
   "outputs": [
    {
     "data": {
      "text/plain": [
       "array([[1., 1., 1., 1., 0.],\n",
       "       [0., 1., 1., 1., 0.],\n",
       "       [1., 0., 1., 1., 0.],\n",
       "       [1., 1., 0., 1., 1.],\n",
       "       [1., 1., 1., 0., 1.],\n",
       "       [1., 1., 0., 1., 0.],\n",
       "       [1., 1., 1., 1., 1.],\n",
       "       [1., 1., 1., 1., 0.],\n",
       "       [0., 1., 0., 1., 0.],\n",
       "       [0., 1., 1., 0., 1.]])"
      ]
     },
     "execution_count": 9,
     "metadata": {},
     "output_type": "execute_result"
    }
   ],
   "source": [
    "fake_data = np.zeros((student_matrix.shape[0], questions_matrix.shape[0]))\n",
    "for i, student in enumerate(student_matrix):\n",
    "    for j, question in enumerate(questions_matrix):\n",
    "        concept = np.nonzero(question)[0]\n",
    "        prob = b.sigmoid_irf(student[concept], guess_prob, question[concept])\n",
    "        if np.random.uniform() <= prob:\n",
    "            fake_data[i, j] = 1\n",
    "fake_data"
   ]
  },
  {
   "cell_type": "code",
   "execution_count": null,
   "metadata": {},
   "outputs": [],
   "source": []
  }
 ],
 "metadata": {
  "kernelspec": {
   "display_name": "Python 3",
   "language": "python",
   "name": "python3"
  },
  "language_info": {
   "codemirror_mode": {
    "name": "ipython",
    "version": 3
   },
   "file_extension": ".py",
   "mimetype": "text/x-python",
   "name": "python",
   "nbconvert_exporter": "python",
   "pygments_lexer": "ipython3",
   "version": "3.6.5"
  }
 },
 "nbformat": 4,
 "nbformat_minor": 1
}
