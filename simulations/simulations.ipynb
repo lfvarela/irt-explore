{
 "cells": [
  {
   "cell_type": "code",
   "execution_count": 40,
   "metadata": {},
   "outputs": [],
   "source": [
    "import baselines as b\n",
    "import simulations as s\n",
    "import numpy as np"
   ]
  },
  {
   "cell_type": "code",
   "execution_count": 41,
   "metadata": {},
   "outputs": [],
   "source": [
    "N = 10  # Num students\n",
    "Q = 5  # Num questions\n",
    "C = 2  # Num concepts\n",
    "guess_prob = 0.25\n",
    "student_matrix, questions_matrix = s.generate_matrices(N, Q, C)"
   ]
  },
  {
   "cell_type": "code",
   "execution_count": 42,
   "metadata": {},
   "outputs": [
    {
     "data": {
      "text/plain": [
       "array([[0.73089878, 0.64202144],\n",
       "       [0.46874724, 0.29990117],\n",
       "       [0.38390179, 0.64562539],\n",
       "       [0.39821861, 0.85656146],\n",
       "       [0.83336048, 0.49633372],\n",
       "       [0.25533857, 0.3050716 ],\n",
       "       [0.4762331 , 0.88310554],\n",
       "       [0.8077714 , 0.40012254],\n",
       "       [0.15430578, 0.37342873],\n",
       "       [0.85535606, 0.75434821]])"
      ]
     },
     "execution_count": 42,
     "metadata": {},
     "output_type": "execute_result"
    }
   ],
   "source": [
    "student_matrix"
   ]
  },
  {
   "cell_type": "code",
   "execution_count": 43,
   "metadata": {},
   "outputs": [
    {
     "data": {
      "text/plain": [
       "array([[0.        , 0.71780604],\n",
       "       [0.4560526 , 0.        ],\n",
       "       [0.        , 0.61576407],\n",
       "       [0.        , 0.58352718],\n",
       "       [0.20550357, 0.        ]])"
      ]
     },
     "execution_count": 43,
     "metadata": {},
     "output_type": "execute_result"
    }
   ],
   "source": [
    "questions_matrix"
   ]
  },
  {
   "cell_type": "code",
   "execution_count": 44,
   "metadata": {},
   "outputs": [],
   "source": [
    "# Generate simulated data: N x Q matrix where m_ij = 0 iff student i responded question j correctly.\n",
    "fake_data = np.zeros((student_matrix.shape[0], questions_matrix.shape[0]))\n",
    "for i, student in enumerate(student_matrix):\n",
    "    for j, question in enumerate(questions_matrix):\n",
    "        concept = np.nonzero(question)[0]\n",
    "        prob = b.sigmoid_irf(student[concept], guess_prob, question[concept])\n",
    "        if np.random.uniform() <= prob:\n",
    "            fake_data[i, j] = 1"
   ]
  },
  {
   "cell_type": "code",
   "execution_count": 45,
   "metadata": {},
   "outputs": [
    {
     "data": {
      "text/plain": [
       "array([[1., 1., 0., 0., 1.],\n",
       "       [1., 1., 0., 0., 1.],\n",
       "       [0., 0., 0., 1., 1.],\n",
       "       [1., 1., 1., 1., 1.],\n",
       "       [1., 0., 1., 0., 1.],\n",
       "       [1., 1., 1., 1., 1.],\n",
       "       [0., 0., 1., 0., 1.],\n",
       "       [1., 1., 1., 0., 0.],\n",
       "       [0., 1., 1., 0., 0.],\n",
       "       [1., 1., 1., 1., 1.]])"
      ]
     },
     "execution_count": 45,
     "metadata": {},
     "output_type": "execute_result"
    }
   ],
   "source": [
    "fake_data"
   ]
  },
  {
   "cell_type": "code",
   "execution_count": null,
   "metadata": {},
   "outputs": [],
   "source": []
  }
 ],
 "metadata": {
  "kernelspec": {
   "display_name": "Python 3",
   "language": "python",
   "name": "python3"
  },
  "language_info": {
   "codemirror_mode": {
    "name": "ipython",
    "version": 3
   },
   "file_extension": ".py",
   "mimetype": "text/x-python",
   "name": "python",
   "nbconvert_exporter": "python",
   "pygments_lexer": "ipython3",
   "version": "3.6.5"
  }
 },
 "nbformat": 4,
 "nbformat_minor": 1
}
